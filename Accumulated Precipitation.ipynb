{
 "cells": [
  {
   "cell_type": "code",
   "execution_count": 9,
   "id": "24b30ebb",
   "metadata": {},
   "outputs": [
    {
     "data": {
      "text/html": [
       "<h2 style='text-align: center;'>Select Precipitation Data</h2>"
      ],
      "text/plain": [
       "<IPython.core.display.HTML object>"
      ]
     },
     "metadata": {},
     "output_type": "display_data"
    },
    {
     "data": {
      "application/vnd.jupyter.widget-view+json": {
       "model_id": "5d95af2dd2664ec48e1df0687393d948",
       "version_major": 2,
       "version_minor": 0
      },
      "text/plain": [
       "VBox(children=(Dropdown(description='Season:', options=('Agriculture', 'Winter', 'Growing Season'), value='Agr…"
      ]
     },
     "metadata": {},
     "output_type": "display_data"
    }
   ],
   "source": [
    "import os\n",
    "import rasterio\n",
    "import numpy as np\n",
    "import matplotlib.pyplot as plt\n",
    "import ipywidgets as widgets\n",
    "import pandas as pd\n",
    "from IPython.display import display, HTML\n",
    "\n",
    "# Define paths\n",
    "data_paths = {\n",
    "    \"Agriculture\": r\"C:\\Users\\DELL\\Downloads\\Precipitation Data\\Agriculture\",\n",
    "    \"Winter\": r\"C:\\Users\\DELL\\Downloads\\Precipitation Data\\winter\",\n",
    "    \"Growing Season\": r\"C:\\Users\\DELL\\Downloads\\Precipitation Data\\growing season\",\n",
    "}\n",
    "excel_file_path = r\"C:\\Users\\DELL\\Downloads\\actualdata_cleaned.xlsx\"  # Path to your cleaned data Excel file\n",
    "\n",
    "# Load cleaned data from the Excel sheets\n",
    "cleaned_data = {\n",
    "    \"Agriculture\": pd.read_excel(excel_file_path, sheet_name='agriculture'),\n",
    "    \"Winter\": pd.read_excel(excel_file_path, sheet_name='winter'),\n",
    "    \"Growing Season\": pd.read_excel(excel_file_path, sheet_name='growing season'),\n",
    "}\n",
    "\n",
    "# Create dropdown for dataset selection\n",
    "dataset_dropdown = widgets.Dropdown(options=list(data_paths.keys()), description='Season:')\n",
    "date_dropdown = widgets.Dropdown(description='Select Date:')\n",
    "output = widgets.Output()\n",
    "\n",
    "# Function to populate dates based on the selected dataset\n",
    "def update_dates(change):\n",
    "    dataset = dataset_dropdown.value\n",
    "    if dataset in cleaned_data:\n",
    "        dates = pd.to_datetime(cleaned_data[dataset]['Date']).dt.strftime('%Y-%m-%d').tolist()\n",
    "        date_dropdown.options = dates\n",
    "        date_dropdown.value = None  # Reset date selection to None to prevent automatic selection\n",
    "    else:\n",
    "        date_dropdown.options = []\n",
    "        date_dropdown.value = None  # Reset date selection\n",
    "\n",
    "# Function to read GeoTIFF data\n",
    "def read_geotiff(file_path):\n",
    "    with rasterio.open(file_path) as src:\n",
    "        data = src.read(1)  # Read the first band\n",
    "        return data\n",
    "\n",
    "# Function to show data based on selected date and dataset\n",
    "def show_data(change):\n",
    "    with output:\n",
    "        output.clear_output()  # Clear previous output\n",
    "        selected_dataset = dataset_dropdown.value\n",
    "        selected_date = date_dropdown.value\n",
    "        \n",
    "        # Retrieve and display corresponding value from cleaned Excel data\n",
    "        csv_value = cleaned_data[selected_dataset].loc[cleaned_data[selected_dataset]['Date'] == selected_date, 'Precipitation (mm)'].values\n",
    "        if csv_value.size > 0:\n",
    "            print(f'Average Precipitation Value: {csv_value[0]:.2f} mm')\n",
    "        else:\n",
    "            print(\"No data available in the CSV for this date.\")\n",
    "\n",
    "        # Get the corresponding GeoTIFF file\n",
    "        date_key = selected_date.replace(\"-\", \"\")  # Convert to YYYYMMDD for matching\n",
    "        \n",
    "        # Update the prefix based on the selected dataset\n",
    "        if selected_dataset == \"Agriculture\":\n",
    "            prefix = \"ac_ay\"\n",
    "        elif selected_dataset == \"Winter\":\n",
    "            prefix = \"ac_wi\"\n",
    "        elif selected_dataset == \"Growing Season\":\n",
    "            prefix = \"ac_gs\"\n",
    "        else:\n",
    "            prefix = \"\"\n",
    "\n",
    "        selected_file = f\"{prefix}_{date_key}.tif\"  # Generate file name based on dataset\n",
    "        \n",
    "        # Check if the file exists in the directory\n",
    "        if selected_file in os.listdir(data_paths[selected_dataset]):\n",
    "            # Load the GeoTIFF data\n",
    "            geo_file_path = os.path.join(data_paths[selected_dataset], selected_file)\n",
    "            data = read_geotiff(geo_file_path)\n",
    "\n",
    "            # Display the image\n",
    "            plt.figure(figsize=(10, 5))\n",
    "            plt.imshow(data, cmap='viridis')\n",
    "            plt.colorbar(label='Precipitation (mm)')\n",
    "            plt.title(f'Precipitation for {selected_dataset} on {selected_date} (GeoTIFF)')\n",
    "            plt.xlabel('Pixel X')\n",
    "            plt.ylabel('Pixel Y')\n",
    "            plt.show()\n",
    "        else:\n",
    "            print(\"No GeoTIFF file available for this date.\")\n",
    "\n",
    "# Link the dataset dropdown to update the date options\n",
    "dataset_dropdown.observe(update_dates, names='value')\n",
    "\n",
    "# Link the date dropdown to the show_data function\n",
    "date_dropdown.observe(show_data, names='value')\n",
    "\n",
    "# Center the title using HTML\n",
    "display(HTML(\"<h2 style='text-align: center;'>Select Precipitation Data</h2>\"))\n",
    "\n",
    "# Display centered widgets\n",
    "display(widgets.VBox([dataset_dropdown, date_dropdown, output]))"
   ]
  },
  {
   "cell_type": "code",
   "execution_count": null,
   "id": "7d0bbb84",
   "metadata": {},
   "outputs": [],
   "source": []
  },
  {
   "cell_type": "code",
   "execution_count": null,
   "id": "9481c782",
   "metadata": {},
   "outputs": [],
   "source": []
  },
  {
   "cell_type": "code",
   "execution_count": null,
   "id": "7da80fce",
   "metadata": {},
   "outputs": [],
   "source": []
  }
 ],
 "metadata": {
  "kernelspec": {
   "display_name": "Python 3 (ipykernel)",
   "language": "python",
   "name": "python3"
  },
  "language_info": {
   "codemirror_mode": {
    "name": "ipython",
    "version": 3
   },
   "file_extension": ".py",
   "mimetype": "text/x-python",
   "name": "python",
   "nbconvert_exporter": "python",
   "pygments_lexer": "ipython3",
   "version": "3.11.5"
  }
 },
 "nbformat": 4,
 "nbformat_minor": 5
}
